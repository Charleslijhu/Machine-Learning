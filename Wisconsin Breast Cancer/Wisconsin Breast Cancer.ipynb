{
 "cells": [
  {
   "cell_type": "markdown",
   "metadata": {
    "colab_type": "text",
    "id": "ttHuncwkUN40"
   },
   "source": [
    "## Wisconsin Breast Cancer dataset"
   ]
  },
  {
   "cell_type": "code",
   "execution_count": 1,
   "metadata": {
    "colab": {},
    "colab_type": "code",
    "id": "s7B5aBtXUN41"
   },
   "outputs": [
    {
     "name": "stdout",
     "output_type": "stream",
     "text": [
      "(569, 32)\n",
      "         0  1      2      3       4       5        6        7       8   \\\n",
      "0    842302  M  17.99  10.38  122.80  1001.0  0.11840  0.27760  0.3001   \n",
      "1    842517  M  20.57  17.77  132.90  1326.0  0.08474  0.07864  0.0869   \n",
      "2  84300903  M  19.69  21.25  130.00  1203.0  0.10960  0.15990  0.1974   \n",
      "3  84348301  M  11.42  20.38   77.58   386.1  0.14250  0.28390  0.2414   \n",
      "4  84358402  M  20.29  14.34  135.10  1297.0  0.10030  0.13280  0.1980   \n",
      "\n",
      "        9   ...     22     23      24      25      26      27      28      29  \\\n",
      "0  0.14710  ...  25.38  17.33  184.60  2019.0  0.1622  0.6656  0.7119  0.2654   \n",
      "1  0.07017  ...  24.99  23.41  158.80  1956.0  0.1238  0.1866  0.2416  0.1860   \n",
      "2  0.12790  ...  23.57  25.53  152.50  1709.0  0.1444  0.4245  0.4504  0.2430   \n",
      "3  0.10520  ...  14.91  26.50   98.87   567.7  0.2098  0.8663  0.6869  0.2575   \n",
      "4  0.10430  ...  22.54  16.67  152.20  1575.0  0.1374  0.2050  0.4000  0.1625   \n",
      "\n",
      "       30       31  \n",
      "0  0.4601  0.11890  \n",
      "1  0.2750  0.08902  \n",
      "2  0.3613  0.08758  \n",
      "3  0.6638  0.17300  \n",
      "4  0.2364  0.07678  \n",
      "\n",
      "[5 rows x 32 columns]\n"
     ]
    }
   ],
   "source": [
    "import pandas as pd\n",
    "import ssl\n",
    "ssl._create_default_https_context = ssl._create_unverified_context\n",
    "\n",
    "# Step1: Let's import some cancer data from the web\n",
    "df = pd.read_csv('https://archive.ics.uci.edu/ml/machine-learning-databases/breast-cancer-wisconsin/wdbc.data', header = None)\n",
    "print(df.shape)\n",
    "# First off, let's get some intuition about our dataset\n",
    "print(df.head())\n",
    "#print(df.describe())\n",
    "#print(df.isnull().sum(axis=0))\n"
   ]
  },
  {
   "cell_type": "code",
   "execution_count": 2,
   "metadata": {
    "colab": {},
    "colab_type": "code",
    "id": "PY-RASe-UN47"
   },
   "outputs": [
    {
     "name": "stdout",
     "output_type": "stream",
     "text": [
      "['B' 'M']\n"
     ]
    }
   ],
   "source": [
    "import numpy as np\n",
    "# need to clean-up the column with M's and B's\n",
    "print(np.unique(df.iloc[:,1]))\n",
    "# 'B' is benign\n",
    "# 'M' is malignant "
   ]
  },
  {
   "cell_type": "code",
   "execution_count": 3,
   "metadata": {
    "colab": {},
    "colab_type": "code",
    "id": "yLE2ySikUN4-",
    "scrolled": false
   },
   "outputs": [
    {
     "name": "stdout",
     "output_type": "stream",
     "text": [
      "<class 'pandas.core.frame.DataFrame'>\n",
      "(569, 30)\n"
     ]
    },
    {
     "data": {
      "text/plain": [
       "array([1, 0], dtype=int64)"
      ]
     },
     "execution_count": 3,
     "metadata": {},
     "output_type": "execute_result"
    }
   ],
   "source": [
    "# Step 2: put 30 features into X, and munge y\n",
    "# Let's use LabelEncoder to help with changing 'B','M' into numbers\n",
    "print(type(df))\n",
    "\n",
    "from sklearn.preprocessing import LabelEncoder\n",
    "\n",
    "X = df.loc[:,2:].values\n",
    "\n",
    "print(X.shape)\n",
    "\n",
    "y = df.loc[:,1].values\n",
    "\n",
    "le = LabelEncoder()     # instantiate the object \n",
    "y = le.fit_transform(y) # do two steps here, fit(), then transform()\n",
    "\n",
    "#print(y)\n",
    "#print(df.tail(3))\n",
    "\n",
    "# Check 'M' malignant is 1 and 'B' benign is 0\n",
    "le.transform(['M','B'])"
   ]
  },
  {
   "cell_type": "code",
   "execution_count": 4,
   "metadata": {
    "colab": {},
    "colab_type": "code",
    "id": "ZrDUf_kKUN5B"
   },
   "outputs": [
    {
     "data": {
      "text/plain": [
       "numpy.ndarray"
      ]
     },
     "execution_count": 4,
     "metadata": {},
     "output_type": "execute_result"
    }
   ],
   "source": [
    "type(X)"
   ]
  },
  {
   "cell_type": "code",
   "execution_count": 5,
   "metadata": {
    "colab": {},
    "colab_type": "code",
    "id": "8Ql67JlFUN5E"
   },
   "outputs": [
    {
     "name": "stdout",
     "output_type": "stream",
     "text": [
      "(455, 30) (114, 30)\n"
     ]
    }
   ],
   "source": [
    "# Step3: now, let's split our data into training and test sets\n",
    "#from sklearn.cross_validation import train_test_split # this is DeprecationWarning\n",
    "from sklearn.model_selection import train_test_split\n",
    "\n",
    "X_train, X_test, y_train, y_test = train_test_split(X, y, test_size = 0.2, \n",
    "                                                    stratify=y,\n",
    "                                                    random_state = 1)\n",
    "\n",
    "print(X_train.shape, X_test.shape)"
   ]
  },
  {
   "cell_type": "markdown",
   "metadata": {
    "colab_type": "text",
    "id": "0c5NTJ0tUN5I"
   },
   "source": [
    "## Combining transformers and estimators into a pipeline"
   ]
  },
  {
   "cell_type": "code",
   "execution_count": 6,
   "metadata": {
    "colab": {},
    "colab_type": "code",
    "id": "zN7s6MRVUN5J"
   },
   "outputs": [
    {
     "name": "stdout",
     "output_type": "stream",
     "text": [
      "Test Accuracy: 0.956140\n"
     ]
    },
    {
     "name": "stderr",
     "output_type": "stream",
     "text": [
      "C:\\Users\\charl\\Anaconda3\\lib\\site-packages\\sklearn\\linear_model\\logistic.py:432: FutureWarning: Default solver will be changed to 'lbfgs' in 0.22. Specify a solver to silence this warning.\n",
      "  FutureWarning)\n"
     ]
    }
   ],
   "source": [
    "# Step4: scale data so each feature has mean zero, std one.\n",
    "# Step5: compress original 30 features into 2-dimension space via PCA\n",
    "# Here we introduce \"Pipeline\" to help streamline \n",
    "# the: scaling(StandardScaler), compression(PCA), \n",
    "# modeling(LogisticRegression) steps\n",
    "\n",
    "from sklearn.preprocessing import StandardScaler\n",
    "from sklearn.decomposition import PCA \n",
    "#from sklearn.decomposition import KernelPCA\n",
    "\n",
    "from sklearn.linear_model import LogisticRegression\n",
    "from sklearn.pipeline import Pipeline\n",
    "\n",
    "pipe_lr = Pipeline([('scl', StandardScaler()),      # Step 4\n",
    "                    ('pca', PCA(n_components = 2)), # Step 5\n",
    "                    ('clf', LogisticRegression(random_state=1))]) # Step 6\n",
    "\n",
    "pipe_lr.fit(X_train, y_train) \n",
    "\n",
    "print('Test Accuracy: %0.6f' % pipe_lr.score(X_test, y_test)) # Step 7 evaluate\n"
   ]
  },
  {
   "cell_type": "markdown",
   "metadata": {
    "colab_type": "text",
    "id": "xvM22TD1UN5R"
   },
   "source": [
    "# Cross-validation two methods to assess model performance \n",
    "## The k-Fold cross-validation (and stratified sampling) "
   ]
  },
  {
   "cell_type": "code",
   "execution_count": 9,
   "metadata": {
    "colab": {},
    "colab_type": "code",
    "id": "aCYUvNAyUN5R"
   },
   "outputs": [
    {
     "name": "stdout",
     "output_type": "stream",
     "text": [
      "Fold: 1, Class dist.: [256 153], Accuracy 0.935\n",
      "Fold: 2, Class dist.: [256 153], Accuracy 0.935\n",
      "Fold: 3, Class dist.: [256 153], Accuracy 0.957\n",
      "Fold: 4, Class dist.: [256 153], Accuracy 0.957\n",
      "Fold: 5, Class dist.: [256 153], Accuracy 0.935\n",
      "Fold: 6, Class dist.: [257 153], Accuracy 0.956\n",
      "Fold: 7, Class dist.: [257 153], Accuracy 0.978\n",
      "Fold: 8, Class dist.: [257 153], Accuracy 0.933\n",
      "Fold: 9, Class dist.: [257 153], Accuracy 0.956\n",
      "Fold: 10, Class dist.: [257 153], Accuracy 0.956\n"
     ]
    }
   ],
   "source": [
    "import warnings\n",
    "warnings.filterwarnings(\"ignore\", category=FutureWarning)\n",
    "\n",
    "# StratifiedKFold cross-validation example\n",
    "import numpy as np\n",
    "\n",
    "from sklearn.model_selection import StratifiedKFold\n",
    "\n",
    "kfold = StratifiedKFold(n_splits = 10, \n",
    "                       random_state = 1).split(X_train, y_train)\n",
    "\n",
    "scores = []\n",
    "\n",
    "for k, (train, test) in enumerate(kfold):\n",
    "    pipe_lr.fit(X_train[train], y_train[train])\n",
    "    score = pipe_lr.score(X_train[test], y_train[test])    \n",
    "    scores.append(score)\n",
    "    print('Fold: %s, Class dist.: %s, Accuracy %0.3f' % (k+1, \n",
    "           np.bincount(y_train[train]), score))"
   ]
  },
  {
   "cell_type": "code",
   "execution_count": 10,
   "metadata": {
    "colab": {},
    "colab_type": "code",
    "id": "EA2YeVxqUN5U"
   },
   "outputs": [
    {
     "name": "stdout",
     "output_type": "stream",
     "text": [
      "CV accuracy: 0.950 +/- 0.014\n"
     ]
    }
   ],
   "source": [
    "print('CV accuracy: %.3f +/- %.3f' % (np.mean(scores), np.std(scores)))"
   ]
  },
  {
   "cell_type": "code",
   "execution_count": 11,
   "metadata": {
    "colab": {},
    "colab_type": "code",
    "id": "vW7B5mOAUN5X"
   },
   "outputs": [
    {
     "name": "stdout",
     "output_type": "stream",
     "text": [
      "CV accuracy scores: [0.93478261 0.93478261 0.95652174 0.95652174 0.93478261 0.95555556\n",
      " 0.97777778 0.93333333 0.95555556 0.95555556]\n",
      "Mean CV: 0.950\n"
     ]
    }
   ],
   "source": [
    "# Using cross_val_score() for more succinct code\n",
    "from sklearn.model_selection import cross_val_score # uses stratified k-fold cross-validation\n",
    "\n",
    "scores = cross_val_score( estimator = pipe_lr,\n",
    "                        X = X_train,\n",
    "                        y = y_train,\n",
    "                        cv = 10,\n",
    "                        n_jobs = 1)\n",
    "\n",
    "print('CV accuracy scores: %s' % scores)\n",
    "print('Mean CV: %.3f' % np.mean(scores))"
   ]
  },
  {
   "cell_type": "code",
   "execution_count": 12,
   "metadata": {
    "colab": {},
    "colab_type": "code",
    "id": "F4dbg-QGUN5a"
   },
   "outputs": [],
   "source": [
    "# Now, let's go back to to powerpoint slides again to do \"Learning\" and \"Validation\" Curves."
   ]
  },
  {
   "cell_type": "code",
   "execution_count": 13,
   "metadata": {
    "colab": {},
    "colab_type": "code",
    "id": "oqS-VlKoUN5d"
   },
   "outputs": [],
   "source": [
    "# Let's do one Learning Curve together, p. 181\n",
    "%matplotlib inline\n",
    "\n",
    "import matplotlib.pyplot as plt\n",
    "\n",
    "from sklearn.model_selection import learning_curve\n",
    "\n",
    "pipe_lr = Pipeline([\n",
    "        ('scl', StandardScaler()),\n",
    "#        ('pca', PCA(n_components = 2)),\n",
    "        ('clf', LogisticRegression(penalty='l2', random_state=0))])\n",
    "\n",
    "train_sizes, train_scores, test_scores = learning_curve( estimator = pipe_lr,\n",
    "                                                       X = X_train,\n",
    "                                                       y = y_train,\n",
    "                                                       train_sizes = np.linspace(0.1, 1.0, 10), # 10 evenly spaced intervals \n",
    "                                                       cv = 10,\n",
    "                                                       n_jobs = 1)\n"
   ]
  },
  {
   "cell_type": "code",
   "execution_count": 14,
   "metadata": {
    "colab": {},
    "colab_type": "code",
    "id": "44oG_xy8UN5f"
   },
   "outputs": [
    {
     "data": {
      "text/plain": [
       "Text(0.5, 1.0, 'Learning Curve')"
      ]
     },
     "execution_count": 14,
     "metadata": {},
     "output_type": "execute_result"
    },
    {
     "data": {
      "image/png": "[encoded data removed]",
      "text/plain": [
       "<Figure size 432x288 with 1 Axes>"
      ]
     },
     "metadata": {
      "needs_background": "light"
     },
     "output_type": "display_data"
    }
   ],
   "source": [
    "train_mean = np.mean(train_scores, axis = 1)\n",
    "train_std  = np.std(train_scores, axis = 1)\n",
    "test_mean  = np.mean(test_scores, axis = 1)\n",
    "test_std  = np.std(test_scores, axis = 1)\n",
    "\n",
    "plt.plot(train_sizes, train_mean, \n",
    "         color = 'blue', marker = 'o', \n",
    "         markersize = 5, \n",
    "         label = 'training accuracy')\n",
    "plt.fill_between(train_sizes, train_mean + train_std, \n",
    "                              train_mean - train_std,\n",
    "                              alpha = 0.15, color = 'blue')\n",
    "\n",
    "plt.plot(train_sizes, test_mean, \n",
    "         color = 'green', linestyle = '--',  \n",
    "         marker = 's', markersize = 5, \n",
    "         label = 'validation accuracy')\n",
    "plt.fill_between(train_sizes, test_mean + test_std, \n",
    "                              test_mean - test_std,\n",
    "                              alpha = 0.15, color = 'green')\n",
    "\n",
    "plt.grid()\n",
    "plt.xlabel('Number of training samples')\n",
    "plt.ylabel('Accuracy')\n",
    "plt.legend(loc = 'lower right')\n",
    "plt.ylim([0.8, 1.05])\n",
    "plt.title('Learning Curve')"
   ]
  },
  {
   "cell_type": "markdown",
   "metadata": {
    "colab_type": "text",
    "id": "-1Skbr1gUN5n"
   },
   "source": [
    "## Overfitting and underfitting with Validation Curves "
   ]
  },
  {
   "cell_type": "code",
   "execution_count": 15,
   "metadata": {
    "colab": {},
    "colab_type": "code",
    "id": "jDdskBhcUN5p"
   },
   "outputs": [
    {
     "data": {
      "text/plain": [
       "Text(0.5, 1.0, 'Validation Curve')"
      ]
     },
     "execution_count": 15,
     "metadata": {},
     "output_type": "execute_result"
    },
    {
     "data": {
      "image/png": "[encoded data removed]",
      "text/plain": [
       "<Figure size 432x288 with 1 Axes>"
      ]
     },
     "metadata": {
      "needs_background": "light"
     },
     "output_type": "display_data"
    }
   ],
   "source": [
    "from sklearn.model_selection import validation_curve\n",
    "\n",
    "param_range = [0.001, 0.01, 0.1, 1.0, 10.0, 100.0] # comparative statics \n",
    "\n",
    "train_scores, test_scores = validation_curve(\n",
    "                        estimator = pipe_lr,\n",
    "                        X = X_train,\n",
    "                        y = y_train,\n",
    "                        param_name = 'clf__C',\n",
    "                        param_range = param_range, \n",
    "                        cv = 10)\n",
    "\n",
    "train_mean = np.mean(train_scores, axis = 1)\n",
    "train_std   = np.std(train_scores, axis = 1)\n",
    "\n",
    "test_mean = np.mean(test_scores, axis = 1)\n",
    "test_std   = np.std(test_scores, axis = 1)\n",
    "\n",
    "plt.plot(param_range, train_mean, \n",
    "         color = 'blue', marker = 'o', \n",
    "         markersize = 5, \n",
    "         label = 'training accuracy')\n",
    "plt.fill_between(param_range, train_mean + train_std, \n",
    "                              train_mean - train_std,\n",
    "                              alpha = 0.15, color = 'blue')\n",
    "\n",
    "plt.plot(param_range, test_mean, \n",
    "         color = 'green', linestyle = '--',\n",
    "         marker = 'o', markersize = 5, \n",
    "         label = 'validation accuracy')\n",
    "plt.fill_between(param_range, test_mean + test_std, \n",
    "                              test_mean - test_std,\n",
    "                              alpha = 0.15, color = 'green')\n",
    "\n",
    "plt.grid()\n",
    "plt.xscale('log')\n",
    "plt.legend(loc = 'lower right')\n",
    "plt.xlabel('Parameter C')\n",
    "plt.ylabel('Accuracy')\n",
    "plt.ylim([0.8, 1.0])\n",
    "plt.title('Validation Curve')"
   ]
  },
  {
   "cell_type": "markdown",
   "metadata": {
    "colab_type": "text",
    "id": "4WO13Eo7UN5x"
   },
   "source": [
    "## Fine-tuning ML with Grid Search"
   ]
  },
  {
   "cell_type": "code",
   "execution_count": 16,
   "metadata": {
    "colab": {},
    "colab_type": "code",
    "id": "GldFL1jPUN5z"
   },
   "outputs": [
    {
     "name": "stdout",
     "output_type": "stream",
     "text": [
      "0.9846153846153847\n",
      "Pipeline(memory=None,\n",
      "         steps=[('scl',\n",
      "                 StandardScaler(copy=True, with_mean=True, with_std=True)),\n",
      "                ('clf',\n",
      "                 SVC(C=100.0, cache_size=200, class_weight=None, coef0=0.0,\n",
      "                     decision_function_shape='ovr', degree=3, gamma=0.001,\n",
      "                     kernel='rbf', max_iter=-1, probability=False,\n",
      "                     random_state=1, shrinking=True, tol=0.001,\n",
      "                     verbose=False))],\n",
      "         verbose=False)\n"
     ]
    }
   ],
   "source": [
    "# Grid search is a brute force exhaustive searching paradigm\n",
    "# specify list of hyperparameters\n",
    "from sklearn.model_selection import GridSearchCV\n",
    "from sklearn.svm import SVC\n",
    "\n",
    "pipe_svc = Pipeline([('scl', StandardScaler()), \n",
    "                     ('clf', SVC(random_state=1))])\n",
    "\n",
    "param_range = [0.0001, 0.001, 0.01, 0.1, 1.0, 10.0, 100.0, 1000.0]\n",
    "\n",
    "param_grid = [{'clf__C': param_range,\n",
    "               'clf__kernel': ['linear']},\n",
    "              {'clf__C': param_range,\n",
    "               'clf__gamma': param_range,\n",
    "               'clf__kernel': ['rbf']}]\n",
    "\n",
    "gs = GridSearchCV(estimator = pipe_svc,\n",
    "                 param_grid = param_grid,\n",
    "                 scoring = 'accuracy',\n",
    "                 cv = 10,\n",
    "                 n_jobs = -1)\n",
    "\n",
    "gs = gs.fit(X_train, y_train) \n",
    "\n",
    "print(gs.best_score_)\n",
    "print(gs.best_estimator_)\n",
    "\n"
   ]
  },
  {
   "cell_type": "code",
   "execution_count": 17,
   "metadata": {
    "colab": {},
    "colab_type": "code",
    "id": "RQ9jSD6zUN54"
   },
   "outputs": [
    {
     "name": "stdout",
     "output_type": "stream",
     "text": [
      "Test accuracy: 0.974\n"
     ]
    }
   ],
   "source": [
    "# Take the best estimator, refit to the training data, \n",
    "# check performance and go with it! \n",
    "\n",
    "clf = gs.best_estimator_\n",
    "\n",
    "clf.fit(X_train, y_train)\n",
    "\n",
    "print('Test accuracy: %.3f' % clf.score(X_test, y_test))"
   ]
  },
  {
   "cell_type": "markdown",
   "metadata": {
    "colab_type": "text",
    "id": "uoD0nINbhOhT"
   },
   "source": [
    "# Algorithm selection with nested cross-validation"
   ]
  },
  {
   "cell_type": "code",
   "execution_count": 18,
   "metadata": {
    "colab": {},
    "colab_type": "code",
    "id": "g2jkm8WqhSHq"
   },
   "outputs": [
    {
     "name": "stdout",
     "output_type": "stream",
     "text": [
      "CV accuracy: 0.974 +/- 0.015\n"
     ]
    }
   ],
   "source": [
    "# GridSearchCV\n",
    "gs = GridSearchCV(estimator=pipe_svc,\n",
    "                 param_grid=param_grid,\n",
    "                 scoring='accuracy',\n",
    "                 cv=2)\n",
    "\n",
    "scores = cross_val_score(gs, X_train, y_train,\n",
    "                        scoring='accuracy', cv=5)\n",
    "\n",
    "print('CV accuracy: %.3f +/- %.3f' % (np.mean(scores), np.std(scores)))"
   ]
  },
  {
   "cell_type": "code",
   "execution_count": 19,
   "metadata": {
    "colab": {},
    "colab_type": "code",
    "id": "54UzI7Uth4lb"
   },
   "outputs": [
    {
     "name": "stdout",
     "output_type": "stream",
     "text": [
      "CV accuracy: 0.934 +/- 0.016\n",
      "DecisionTreeClassifier(class_weight=None, criterion='gini', max_depth=3,\n",
      "                       max_features=None, max_leaf_nodes=None,\n",
      "                       min_impurity_decrease=0.0, min_impurity_split=None,\n",
      "                       min_samples_leaf=1, min_samples_split=2,\n",
      "                       min_weight_fraction_leaf=0.0, presort=False,\n",
      "                       random_state=0, splitter='best')\n"
     ]
    }
   ],
   "source": [
    "from sklearn.tree import DecisionTreeClassifier\n",
    "\n",
    "gs = GridSearchCV(estimator=DecisionTreeClassifier(random_state=0),\n",
    "                    param_grid=[{'max_depth': [1,2,3,4,5,6,7,None]}],\n",
    "                    scoring='accuracy',\n",
    "                    cv=2)\n",
    "\n",
    "scores = cross_val_score(gs, X_train, y_train,\n",
    "                        scoring = 'accuracy', cv = 5)\n",
    "\n",
    "print('CV accuracy: %.3f +/- %.3f' % (np.mean(scores), np.std(scores))) \n",
    "\n",
    "print(gs.fit(X_train, y_train).best_estimator_)"
   ]
  },
  {
   "cell_type": "markdown",
   "metadata": {
    "colab_type": "text",
    "id": "YMb1cY4NUN5-"
   },
   "source": [
    "# Different Performance Metrics\n",
    "# (1) Confusion Matrix\n",
    "# (2) Precision and Recall\n",
    "# (3) ROC/AUM\n",
    "# (4) for multi-class One vs All (AvsO)\n"
   ]
  },
  {
   "cell_type": "code",
   "execution_count": 20,
   "metadata": {
    "colab": {},
    "colab_type": "code",
    "id": "bS5-IxypUN5_"
   },
   "outputs": [
    {
     "name": "stdout",
     "output_type": "stream",
     "text": [
      "[[71  1]\n",
      " [ 2 40]]\n"
     ]
    }
   ],
   "source": [
    "# Confusion matrix\n",
    "from sklearn.metrics import confusion_matrix\n",
    "\n",
    "pipe_svc.fit(X_train, y_train)\n",
    "y_pred = pipe_svc.predict(X_test)\n",
    "\n",
    "confmat = confusion_matrix(y_true = y_test, y_pred = y_pred)\n",
    "\n",
    "print(confmat)"
   ]
  },
  {
   "cell_type": "code",
   "execution_count": 21,
   "metadata": {
    "colab": {},
    "colab_type": "code",
    "id": "CirQjKZVUN6I"
   },
   "outputs": [
    {
     "name": "stdout",
     "output_type": "stream",
     "text": [
      "Total number of predictions: 114\n"
     ]
    },
    {
     "data": {
      "image/png": "[encoded data removed]",
      "text/plain": [
       "<Figure size 180x180 with 1 Axes>"
      ]
     },
     "metadata": {
      "needs_background": "light"
     },
     "output_type": "display_data"
    }
   ],
   "source": [
    "fig, ax = plt.subplots(figsize=(2.5, 2.5))\n",
    "ax.matshow(confmat, cmap = plt.cm.Blues, alpha = 0.3)\n",
    "for i in range(confmat.shape[0]):\n",
    "    for j in range(confmat.shape[1]):\n",
    "        ax.text(x=j, y=i, \n",
    "               s = confmat[i,j],\n",
    "                va='center', ha='center')\n",
    "plt.xlabel('predicted label')\n",
    "plt.ylabel('true label')\n",
    "print('Total number of predictions:', len(y_pred))\n",
    "# false-positives, remember \"false, 'predicted' positive\"  (in confmat 1)\n",
    "# false-negatives, remember \"false, 'predicted' negative\"  (in confmat 2)"
   ]
  },
  {
   "cell_type": "code",
   "execution_count": 22,
   "metadata": {
    "colab": {},
    "colab_type": "code",
    "id": "0eCjwMAdUN6L"
   },
   "outputs": [],
   "source": [
    "# Optimizing the precision and recall of a classification model\n",
    "# ERR = (FP + FN) / (FP+FN + TP+TN)     <- \"error\"\n",
    "# ACC = (TP + FN) / (FP+FN + TP+TN)     <- \"acccuracy\"\n",
    "# ACC = 1 - ERR\n",
    "\n",
    "# TPR (true positive rate)  =  TP/N = TP / (FN+TP) \n",
    "# FPR (false positive rate) =  FP/N = FP / (FP+TN)"
   ]
  },
  {
   "cell_type": "code",
   "execution_count": 23,
   "metadata": {
    "colab": {},
    "colab_type": "code",
    "id": "UIb5H7nxUN6M",
    "scrolled": false
   },
   "outputs": [],
   "source": [
    "from sklearn.metrics import roc_curve, auc\n",
    "from scipy import interp\n",
    "from sklearn.pipeline import make_pipeline"
   ]
  },
  {
   "cell_type": "code",
   "execution_count": 24,
   "metadata": {
    "colab": {},
    "colab_type": "code",
    "id": "g8jV4x89kMfL"
   },
   "outputs": [],
   "source": [
    "pipe_lr = make_pipeline(StandardScaler(),\n",
    "                       PCA(n_components=2),\n",
    "                       LogisticRegression(penalty='l2',\n",
    "                                         random_state=1,\n",
    "                                         C=100.0))\n",
    "\n",
    "X_train2 = X_train[:,[4,14]]\n",
    "\n",
    "cv = list(StratifiedKFold(n_splits=3,\n",
    "                         random_state=1).split(X_train, y_train))"
   ]
  },
  {
   "cell_type": "code",
   "execution_count": 25,
   "metadata": {
    "colab": {},
    "colab_type": "code",
    "id": "w7MjyBlpk85K"
   },
   "outputs": [
    {
     "data": {
      "image/png": "[encoded data removed]",
      "text/plain": [
       "<Figure size 504x360 with 1 Axes>"
      ]
     },
     "metadata": {
      "needs_background": "light"
     },
     "output_type": "display_data"
    }
   ],
   "source": [
    "fig = plt.figure(figsize=(7,5))\n",
    "mean_tpr = 0.0\n",
    "mean_fpr = np.linspace(0,1,100)\n",
    "all_tpr= []\n",
    "\n",
    "for i, (train, test) in enumerate(cv):\n",
    "  probas = pipe_lr.fit(X_train2[train], \n",
    "                       y_train[train]).predict_proba(X_train2[test])\n",
    "  fpr, tpr, thresholds = roc_curve(y_train[test], \n",
    "                                  probas[:,1],\n",
    "                                  pos_label=1)\n",
    "  mean_tpr += interp(mean_fpr, fpr, tpr)\n",
    "  mean_tpr[0] = 0.0\n",
    "  roc_auc = auc(fpr, tpr)\n",
    "  plt.plot(fpr, tpr, \n",
    "          label='ROC fold %d (area = %0.2f)' % (i+1, roc_auc))\n",
    "  \n",
    "\n",
    "plt.plot([0,1],[0,1], linestyle='--', color=(0.6, 0.6, 0.6), label='random guess')\n",
    "\n",
    "mean_tpr /= len(cv)\n",
    "mean_tpr[-1] = 1.0\n",
    "\n",
    "mean_auc = auc(mean_fpr, mean_tpr)\n",
    "\n",
    "plt.plot(mean_fpr, mean_tpr, 'k--',\n",
    "        label = 'mean ROC (area = %0.2f)' % mean_auc, lw=2)\n",
    "\n",
    "plt.plot([0,0,1], [0,1,1], linestyle=':', color='black', label='perfect performance')\n",
    "\n",
    "plt.xlim([-0.05, 1.05])\n",
    "plt.ylim([-0.05, 1.05])\n",
    "plt.xlabel('false positive rate')\n",
    "plt.ylabel('true positive rate')\n",
    "plt.legend(loc='lower right')\n",
    "plt.show()"
   ]
  },
  {
   "cell_type": "code",
   "execution_count": 26,
   "metadata": {
    "colab": {},
    "colab_type": "code",
    "id": "-MhaXZzPUN6P"
   },
   "outputs": [
    {
     "name": "stdout",
     "output_type": "stream",
     "text": [
      "ROC AUC: 0.606\n",
      "Accuracy: 0.684\n"
     ]
    }
   ],
   "source": [
    "pipe_svc = pipe_svc.fit(X_train2, y_train)\n",
    "y_pred2 = pipe_svc.predict(X_test[:,[4,14]])\n",
    "#y_pred2 = pipe_svc.predict(X_test)  # uncomment this for 2) HWK3\n",
    "\n",
    "from sklearn.metrics import roc_auc_score\n",
    "from sklearn.metrics import accuracy_score\n",
    "print('ROC AUC: %.3f' %  roc_auc_score(y_true=y_test, y_score=y_pred2))\n",
    "\n",
    "print('Accuracy: %.3f' % accuracy_score(y_true=y_test, y_pred=y_pred2))"
   ]
  },
  {
   "cell_type": "code",
   "execution_count": 27,
   "metadata": {
    "colab": {},
    "colab_type": "code",
    "id": "d2HeGOh7UN6T"
   },
   "outputs": [],
   "source": [
    "# Lots of ROC Curve explanations for your review! \n",
    "# https://towardsdatascience.com/understanding-auc-roc-curve-68b2303cc9c5\n",
    "# http://gim.unmc.edu/dxtests/roc3.htm\n",
    "# https://developers.google.com/machine-learning/crash-course/classification/roc-and-auc\n",
    "# https://medium.com/greyatom/lets-learn-about-auc-roc-curve-4a94b4d88152\n",
    "    "
   ]
  },
  {
   "cell_type": "code",
   "execution_count": 28,
   "metadata": {
    "colab": {},
    "colab_type": "code",
    "id": "jWl3kHjoUN5M"
   },
   "outputs": [
    {
     "name": "stdout",
     "output_type": "stream",
     "text": [
      "Test Accuracy of: Perceptron           has Score: 0.9123\n",
      "Test Accuracy of: LogisticRegression   has Score: 0.9561\n",
      "Test Accuracy of: Linear SVM           has Score: 0.9649\n",
      "Test Accuracy of: Decision Tree        has Score: 0.9474\n",
      "Test Accuracy of: Random Forest        has Score: 0.9561\n",
      "Test Accuracy of: RBF SVM              has Score: 0.9561\n",
      "Test Accuracy of: Neural Net           has Score: 0.9474\n",
      "Test Accuracy of: Naive Bayes          has Score: 0.9386\n",
      "Test Accuracy of: Nearest Neighbors    has Score: 0.9561\n"
     ]
    }
   ],
   "source": [
    "# Just for fun, now let's run all our classifiers thru this pipeline\n",
    "\n",
    "import warnings\n",
    "warnings.filterwarnings(\"ignore\")\n",
    "\n",
    "from sklearn.linear_model import Perceptron, LogisticRegression\n",
    "from sklearn.svm import SVC\n",
    "from sklearn.tree import DecisionTreeClassifier\n",
    "from sklearn.ensemble import RandomForestClassifier\n",
    "from sklearn.neural_network import MLPClassifier\n",
    "from sklearn.naive_bayes import GaussianNB\n",
    "from sklearn.neighbors import KNeighborsClassifier\n",
    "\n",
    "from sklearn.model_selection import cross_val_score\n",
    "\n",
    "names = [\"Perceptron\",\n",
    "         \"LogisticRegression\",\n",
    "         \"Linear SVM\", \n",
    "         \"Decision Tree\", \n",
    "         \"Random Forest\", \n",
    "         \"RBF SVM\",          \n",
    "         \"Neural Net\", \n",
    "         \"Naive Bayes\",  \n",
    "         \"Nearest Neighbors\"] \n",
    "\n",
    "classifiers = [\n",
    "    Perceptron(),\n",
    "    LogisticRegression(),\n",
    "    SVC(kernel=\"linear\", C=1),\n",
    "    DecisionTreeClassifier(max_depth=5),\n",
    "    RandomForestClassifier(n_estimators=400, max_features=1),\n",
    "    SVC(kernel='rbf',gamma=2, C=1),\n",
    "    MLPClassifier(hidden_layer_sizes=(100,50,50), alpha=1),\n",
    "    GaussianNB(),\n",
    "    KNeighborsClassifier(5)]\n",
    "\n",
    "for name, clf in zip(names, classifiers):\n",
    "    pipe_lr = Pipeline([('scl', StandardScaler()),\n",
    "                    ('pca', PCA(n_components = 2)), # try 10\n",
    "                    ('clf', clf) ])\n",
    " \n",
    "    pipe_lr.fit(X_train, y_train) \n",
    "\n",
    "    print('Test Accuracy of: {0:<20s} has Score: {1:0.4f}'.format(name, pipe_lr.score(X_test, y_test)))\n",
    "\n"
   ]
  }
 ],
 "metadata": {
  "colab": {
   "collapsed_sections": [],
   "name": "Lecture_3_Wisconsin Breast Cancer dataset.ipynb",
   "provenance": []
  },
  "kernelspec": {
   "display_name": "Python 3",
   "language": "python",
   "name": "python3"
  },
  "language_info": {
   "codemirror_mode": {
    "name": "ipython",
    "version": 3
   },
   "file_extension": ".py",
   "mimetype": "text/x-python",
   "name": "python",
   "nbconvert_exporter": "python",
   "pygments_lexer": "ipython3",
   "version": "3.7.4"
  }
 },
 "nbformat": 4,
 "nbformat_minor": 1
}
